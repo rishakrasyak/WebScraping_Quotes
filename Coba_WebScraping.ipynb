{
 "cells": [
  {
   "cell_type": "code",
   "execution_count": 1,
   "id": "e19d5903-a233-43d7-bb8b-1e80e0a294aa",
   "metadata": {},
   "outputs": [],
   "source": [
    "from bs4 import BeautifulSoup\n",
    "import requests\n",
    "import pandas as pd"
   ]
  },
  {
   "cell_type": "code",
   "execution_count": 2,
   "id": "7963c65d-b08c-45ba-aac6-0c447c9dd127",
   "metadata": {},
   "outputs": [],
   "source": [
    "data = []"
   ]
  },
  {
   "cell_type": "code",
   "execution_count": 3,
   "id": "35444f1e-f745-4607-b9bd-6542211ec7f7",
   "metadata": {},
   "outputs": [],
   "source": [
    "# Contoh Web Scraping Quotes"
   ]
  },
  {
   "cell_type": "code",
   "execution_count": 4,
   "id": "1e78b2f4-d202-4fee-b4f4-b5650beb3421",
   "metadata": {},
   "outputs": [],
   "source": [
    "for page in range(1,11):\n",
    "\n",
    "    if page == 1: \n",
    "        url = \"http://quotes.toscrape.com\"\n",
    "    else: \n",
    "        url = \"http://quotes.toscrape.com/page/\"+str(page)\n",
    "\n",
    "    page = requests.get(url)\n",
    "    soup = BeautifulSoup(page.content, 'html.parser')\n",
    "\n",
    "\n",
    "    quotes = soup.find_all('div', class_='quote')\n",
    "    \n",
    "    for q in quotes:\n",
    "        quote = q.find('span', class_='text').text\n",
    "        author = q.find('small', class_='author').text\n",
    "        tags = [tag.text for tag in q.find('div', class_='tags').find_all('a', class_='tag')]\n",
    "\n",
    "        data.append({\n",
    "            'quote': quote,\n",
    "            'author': author,\n",
    "            'tags': tags\n",
    "        })"
   ]
  },
  {
   "cell_type": "code",
   "execution_count": 5,
   "id": "a4ecda89-f5eb-489c-b691-208fed5c41d6",
   "metadata": {},
   "outputs": [],
   "source": [
    "df = pd.DataFrame(data)"
   ]
  },
  {
   "cell_type": "code",
   "execution_count": 6,
   "id": "3cc45239-627d-4e63-93ae-b1168d23037f",
   "metadata": {},
   "outputs": [],
   "source": [
    "df.to_csv('Coba_WebScaping_Quotes.csv', index=False, encoding=\"utf-8\")"
   ]
  },
  {
   "cell_type": "code",
   "execution_count": 8,
   "id": "f7182735-d8b7-4d0d-9a42-d46614c25856",
   "metadata": {},
   "outputs": [],
   "source": [
    "df = pd.read_csv('Coba_WebScaping_Quotes.csv')"
   ]
  },
  {
   "cell_type": "code",
   "execution_count": 9,
   "id": "4c85f378-9553-440c-af09-d15090077888",
   "metadata": {},
   "outputs": [
    {
     "data": {
      "text/html": [
       "<div>\n",
       "<style scoped>\n",
       "    .dataframe tbody tr th:only-of-type {\n",
       "        vertical-align: middle;\n",
       "    }\n",
       "\n",
       "    .dataframe tbody tr th {\n",
       "        vertical-align: top;\n",
       "    }\n",
       "\n",
       "    .dataframe thead th {\n",
       "        text-align: right;\n",
       "    }\n",
       "</style>\n",
       "<table border=\"1\" class=\"dataframe\">\n",
       "  <thead>\n",
       "    <tr style=\"text-align: right;\">\n",
       "      <th></th>\n",
       "      <th>quote</th>\n",
       "      <th>author</th>\n",
       "      <th>tags</th>\n",
       "    </tr>\n",
       "  </thead>\n",
       "  <tbody>\n",
       "    <tr>\n",
       "      <th>0</th>\n",
       "      <td>“The world as we have created it is a process ...</td>\n",
       "      <td>Albert Einstein</td>\n",
       "      <td>['change', 'deep-thoughts', 'thinking', 'world']</td>\n",
       "    </tr>\n",
       "    <tr>\n",
       "      <th>1</th>\n",
       "      <td>“It is our choices, Harry, that show what we t...</td>\n",
       "      <td>J.K. Rowling</td>\n",
       "      <td>['abilities', 'choices']</td>\n",
       "    </tr>\n",
       "    <tr>\n",
       "      <th>2</th>\n",
       "      <td>“There are only two ways to live your life. On...</td>\n",
       "      <td>Albert Einstein</td>\n",
       "      <td>['inspirational', 'life', 'live', 'miracle', '...</td>\n",
       "    </tr>\n",
       "    <tr>\n",
       "      <th>3</th>\n",
       "      <td>“The person, be it gentleman or lady, who has ...</td>\n",
       "      <td>Jane Austen</td>\n",
       "      <td>['aliteracy', 'books', 'classic', 'humor']</td>\n",
       "    </tr>\n",
       "    <tr>\n",
       "      <th>4</th>\n",
       "      <td>“Imperfection is beauty, madness is genius and...</td>\n",
       "      <td>Marilyn Monroe</td>\n",
       "      <td>['be-yourself', 'inspirational']</td>\n",
       "    </tr>\n",
       "  </tbody>\n",
       "</table>\n",
       "</div>"
      ],
      "text/plain": [
       "                                               quote           author  \\\n",
       "0  “The world as we have created it is a process ...  Albert Einstein   \n",
       "1  “It is our choices, Harry, that show what we t...     J.K. Rowling   \n",
       "2  “There are only two ways to live your life. On...  Albert Einstein   \n",
       "3  “The person, be it gentleman or lady, who has ...      Jane Austen   \n",
       "4  “Imperfection is beauty, madness is genius and...   Marilyn Monroe   \n",
       "\n",
       "                                                tags  \n",
       "0   ['change', 'deep-thoughts', 'thinking', 'world']  \n",
       "1                           ['abilities', 'choices']  \n",
       "2  ['inspirational', 'life', 'live', 'miracle', '...  \n",
       "3         ['aliteracy', 'books', 'classic', 'humor']  \n",
       "4                   ['be-yourself', 'inspirational']  "
      ]
     },
     "execution_count": 9,
     "metadata": {},
     "output_type": "execute_result"
    }
   ],
   "source": [
    "df.head()"
   ]
  },
  {
   "cell_type": "code",
   "execution_count": 11,
   "id": "ca40c8b5-a28f-49a1-a145-f5869ca2259a",
   "metadata": {},
   "outputs": [
    {
     "data": {
      "text/plain": [
       "Index(['quote', 'author', 'tags'], dtype='object')"
      ]
     },
     "execution_count": 11,
     "metadata": {},
     "output_type": "execute_result"
    }
   ],
   "source": [
    "df.columns"
   ]
  },
  {
   "cell_type": "code",
   "execution_count": 14,
   "id": "78e2735c-d7dc-4af0-8b70-ea4ec1165ee4",
   "metadata": {},
   "outputs": [
    {
     "data": {
      "text/html": [
       "<div>\n",
       "<style scoped>\n",
       "    .dataframe tbody tr th:only-of-type {\n",
       "        vertical-align: middle;\n",
       "    }\n",
       "\n",
       "    .dataframe tbody tr th {\n",
       "        vertical-align: top;\n",
       "    }\n",
       "\n",
       "    .dataframe thead th {\n",
       "        text-align: right;\n",
       "    }\n",
       "</style>\n",
       "<table border=\"1\" class=\"dataframe\">\n",
       "  <thead>\n",
       "    <tr style=\"text-align: right;\">\n",
       "      <th></th>\n",
       "      <th>quote</th>\n",
       "      <th>author</th>\n",
       "      <th>tags</th>\n",
       "    </tr>\n",
       "  </thead>\n",
       "  <tbody>\n",
       "    <tr>\n",
       "      <th>count</th>\n",
       "      <td>100</td>\n",
       "      <td>100</td>\n",
       "      <td>100</td>\n",
       "    </tr>\n",
       "    <tr>\n",
       "      <th>unique</th>\n",
       "      <td>100</td>\n",
       "      <td>50</td>\n",
       "      <td>84</td>\n",
       "    </tr>\n",
       "    <tr>\n",
       "      <th>top</th>\n",
       "      <td>“The world as we have created it is a process ...</td>\n",
       "      <td>Albert Einstein</td>\n",
       "      <td>['love']</td>\n",
       "    </tr>\n",
       "    <tr>\n",
       "      <th>freq</th>\n",
       "      <td>1</td>\n",
       "      <td>10</td>\n",
       "      <td>4</td>\n",
       "    </tr>\n",
       "  </tbody>\n",
       "</table>\n",
       "</div>"
      ],
      "text/plain": [
       "                                                    quote           author  \\\n",
       "count                                                 100              100   \n",
       "unique                                                100               50   \n",
       "top     “The world as we have created it is a process ...  Albert Einstein   \n",
       "freq                                                    1               10   \n",
       "\n",
       "            tags  \n",
       "count        100  \n",
       "unique        84  \n",
       "top     ['love']  \n",
       "freq           4  "
      ]
     },
     "execution_count": 14,
     "metadata": {},
     "output_type": "execute_result"
    }
   ],
   "source": [
    "df.describe()"
   ]
  },
  {
   "cell_type": "code",
   "execution_count": 16,
   "id": "a0959451-9974-4487-b8b2-d0dafe9bc5be",
   "metadata": {},
   "outputs": [
    {
     "data": {
      "text/plain": [
       "Albert Einstein           10\n",
       "J.K. Rowling               9\n",
       "Marilyn Monroe             7\n",
       "Dr. Seuss                  6\n",
       "Mark Twain                 6\n",
       "C.S. Lewis                 5\n",
       "Jane Austen                5\n",
       "Bob Marley                 3\n",
       "Eleanor Roosevelt          2\n",
       "Charles Bukowski           2\n",
       "Suzanne Collins            2\n",
       "George R.R. Martin         2\n",
       "Ralph Waldo Emerson        2\n",
       "Mother Teresa              2\n",
       "Ernest Hemingway           2\n",
       "J.D. Salinger              1\n",
       "George Bernard Shaw        1\n",
       "J.R.R. Tolkien             1\n",
       "Alfred Tennyson            1\n",
       "Terry Pratchett            1\n",
       "John Lennon                1\n",
       "George Carlin              1\n",
       "W.C. Fields                1\n",
       "Ayn Rand                   1\n",
       "Jimi Hendrix               1\n",
       "J.M. Barrie                1\n",
       "E.E. Cummings              1\n",
       "Khaled Hosseini            1\n",
       "Harper Lee                 1\n",
       "Helen Keller               1\n",
       "Haruki Murakami            1\n",
       "Stephenie Meyer            1\n",
       "Garrison Keillor           1\n",
       "Thomas A. Edison           1\n",
       "Douglas Adams              1\n",
       "Elie Wiesel                1\n",
       "Friedrich Nietzsche        1\n",
       "André Gide                 1\n",
       "Allen Saunders             1\n",
       "Pablo Neruda               1\n",
       "Jim Henson                 1\n",
       "Alexandre Dumas fils       1\n",
       "Charles M. Schulz          1\n",
       "William Nicholson          1\n",
       "Jorge Luis Borges          1\n",
       "George Eliot               1\n",
       "Martin Luther King Jr.     1\n",
       "James Baldwin              1\n",
       "Steve Martin               1\n",
       "Madeleine L'Engle          1\n",
       "Name: author, dtype: int64"
      ]
     },
     "execution_count": 16,
     "metadata": {},
     "output_type": "execute_result"
    }
   ],
   "source": [
    "df['author'].value_counts()"
   ]
  },
  {
   "cell_type": "code",
   "execution_count": null,
   "id": "b08175b6-606f-47a4-97c2-de1cf137ec55",
   "metadata": {},
   "outputs": [],
   "source": []
  }
 ],
 "metadata": {
  "kernelspec": {
   "display_name": "Python 3 (ipykernel)",
   "language": "python",
   "name": "python3"
  },
  "language_info": {
   "codemirror_mode": {
    "name": "ipython",
    "version": 3
   },
   "file_extension": ".py",
   "mimetype": "text/x-python",
   "name": "python",
   "nbconvert_exporter": "python",
   "pygments_lexer": "ipython3",
   "version": "3.8.12"
  }
 },
 "nbformat": 4,
 "nbformat_minor": 5
}
